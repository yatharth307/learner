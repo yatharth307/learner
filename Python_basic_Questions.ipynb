{
 "cells": [
  {
   "cell_type": "markdown",
   "id": "c9d97c64",
   "metadata": {},
   "source": [
    "# Assignment 1"
   ]
  },
  {
   "cell_type": "markdown",
   "id": "528e3653",
   "metadata": {},
   "source": [
    "### Introduction, Data Types, Data Structures, Arithmetic Operators, Conditional Operators, Assignment Operator, Relational Operator, Arithmetic Operator Programs"
   ]
  },
  {
   "cell_type": "markdown",
   "id": "f7bdb17f",
   "metadata": {},
   "source": [
    "### 1. Create three objects/variables x, y, z by assigning the values of 20, 30, 100"
   ]
  },
  {
   "cell_type": "code",
   "execution_count": 1,
   "id": "f3f5d8e1",
   "metadata": {},
   "outputs": [],
   "source": [
    "x,y,z = 20,30,100"
   ]
  },
  {
   "cell_type": "code",
   "execution_count": 2,
   "id": "035b5b70",
   "metadata": {},
   "outputs": [
    {
     "data": {
      "text/plain": [
       "20"
      ]
     },
     "execution_count": 2,
     "metadata": {},
     "output_type": "execute_result"
    }
   ],
   "source": [
    "x"
   ]
  },
  {
   "cell_type": "code",
   "execution_count": 3,
   "id": "efb91f4f",
   "metadata": {},
   "outputs": [
    {
     "data": {
      "text/plain": [
       "30"
      ]
     },
     "execution_count": 3,
     "metadata": {},
     "output_type": "execute_result"
    }
   ],
   "source": [
    "y"
   ]
  },
  {
   "cell_type": "code",
   "execution_count": 4,
   "id": "d7380641",
   "metadata": {},
   "outputs": [
    {
     "data": {
      "text/plain": [
       "100"
      ]
     },
     "execution_count": 4,
     "metadata": {},
     "output_type": "execute_result"
    }
   ],
   "source": [
    "z"
   ]
  },
  {
   "cell_type": "markdown",
   "id": "2fc694d6",
   "metadata": {},
   "source": [
    "### 2. Apply all arithmetic operations (+, -, *, /, //, %, **) using above values.\n"
   ]
  },
  {
   "cell_type": "code",
   "execution_count": 5,
   "id": "bbc23fab",
   "metadata": {},
   "outputs": [
    {
     "data": {
      "text/plain": [
       "50"
      ]
     },
     "execution_count": 5,
     "metadata": {},
     "output_type": "execute_result"
    }
   ],
   "source": [
    "x+y"
   ]
  },
  {
   "cell_type": "code",
   "execution_count": 6,
   "id": "f3785854",
   "metadata": {},
   "outputs": [
    {
     "data": {
      "text/plain": [
       "-80"
      ]
     },
     "execution_count": 6,
     "metadata": {},
     "output_type": "execute_result"
    }
   ],
   "source": [
    "x-z"
   ]
  },
  {
   "cell_type": "code",
   "execution_count": 7,
   "id": "d0a23a87",
   "metadata": {},
   "outputs": [
    {
     "data": {
      "text/plain": [
       "3000"
      ]
     },
     "execution_count": 7,
     "metadata": {},
     "output_type": "execute_result"
    }
   ],
   "source": [
    "y*z"
   ]
  },
  {
   "cell_type": "code",
   "execution_count": 8,
   "id": "08c4e669",
   "metadata": {},
   "outputs": [
    {
     "data": {
      "text/plain": [
       "0.2"
      ]
     },
     "execution_count": 8,
     "metadata": {},
     "output_type": "execute_result"
    }
   ],
   "source": [
    "x/z"
   ]
  },
  {
   "cell_type": "code",
   "execution_count": 9,
   "id": "8e5dc060",
   "metadata": {},
   "outputs": [
    {
     "data": {
      "text/plain": [
       "3"
      ]
     },
     "execution_count": 9,
     "metadata": {},
     "output_type": "execute_result"
    }
   ],
   "source": [
    "z//y"
   ]
  },
  {
   "cell_type": "code",
   "execution_count": 10,
   "id": "fda13282",
   "metadata": {},
   "outputs": [
    {
     "data": {
      "text/plain": [
       "10"
      ]
     },
     "execution_count": 10,
     "metadata": {},
     "output_type": "execute_result"
    }
   ],
   "source": [
    "z%y"
   ]
  },
  {
   "cell_type": "code",
   "execution_count": 11,
   "id": "c579d934",
   "metadata": {},
   "outputs": [
    {
     "data": {
      "text/plain": [
       "1073741824000000000000000000000000000000"
      ]
     },
     "execution_count": 11,
     "metadata": {},
     "output_type": "execute_result"
    }
   ],
   "source": [
    "x**y"
   ]
  },
  {
   "cell_type": "markdown",
   "id": "fc4d6055",
   "metadata": {},
   "source": [
    "### 3. Write a program to print whether the given number is odd or even, use if-else conditional statement"
   ]
  },
  {
   "cell_type": "code",
   "execution_count": 12,
   "id": "5382394a",
   "metadata": {},
   "outputs": [
    {
     "name": "stdout",
     "output_type": "stream",
     "text": [
      "Enter the number :33\n",
      "odd\n"
     ]
    }
   ],
   "source": [
    "a = int(input(\"Enter the number :\"))\n",
    "\n",
    "if a % 2 == 0:\n",
    "    print('even')\n",
    "else:\n",
    "    print('odd')"
   ]
  },
  {
   "cell_type": "markdown",
   "id": "641122d5",
   "metadata": {},
   "source": [
    "###  1) Solve the following with the steps in Python\n",
    "\n",
    "*  Use PAMDAS method for this"
   ]
  },
  {
   "cell_type": "code",
   "execution_count": 13,
   "id": "8ec5c9fe",
   "metadata": {},
   "outputs": [
    {
     "data": {
      "text/plain": [
       "4.0"
      ]
     },
     "execution_count": 13,
     "metadata": {},
     "output_type": "execute_result"
    }
   ],
   "source": [
    "6 + 4 * 9 % (3 + 1) / 6 - 2"
   ]
  },
  {
   "cell_type": "code",
   "execution_count": 14,
   "id": "6db30d4d",
   "metadata": {},
   "outputs": [
    {
     "data": {
      "text/plain": [
       "8"
      ]
     },
     "execution_count": 14,
     "metadata": {},
     "output_type": "execute_result"
    }
   ],
   "source": [
    "11 + 3**(1 + 3) % 3 * 3 - 3"
   ]
  },
  {
   "cell_type": "code",
   "execution_count": 15,
   "id": "e55d4440",
   "metadata": {},
   "outputs": [
    {
     "data": {
      "text/plain": [
       "10.0"
      ]
     },
     "execution_count": 15,
     "metadata": {},
     "output_type": "execute_result"
    }
   ],
   "source": [
    "7 + 4 * 6 % (5 + 1) / 6 + 3"
   ]
  },
  {
   "cell_type": "code",
   "execution_count": 16,
   "id": "64965d74",
   "metadata": {},
   "outputs": [
    {
     "data": {
      "text/plain": [
       "7.0"
      ]
     },
     "execution_count": 16,
     "metadata": {},
     "output_type": "execute_result"
    }
   ],
   "source": [
    "6 + 6 * (4+6) // 7 / 4 - 1"
   ]
  },
  {
   "cell_type": "code",
   "execution_count": 17,
   "id": "de709df9",
   "metadata": {},
   "outputs": [
    {
     "data": {
      "text/plain": [
       "13.0"
      ]
     },
     "execution_count": 17,
     "metadata": {},
     "output_type": "execute_result"
    }
   ],
   "source": [
    "12 + 6* (7+3) // 7 / 2 - 3"
   ]
  },
  {
   "cell_type": "code",
   "execution_count": 18,
   "id": "79907410",
   "metadata": {},
   "outputs": [
    {
     "data": {
      "text/plain": [
       "8"
      ]
     },
     "execution_count": 18,
     "metadata": {},
     "output_type": "execute_result"
    }
   ],
   "source": [
    "11 + 4 * 2 ** (3 + 1) % 4 - 3"
   ]
  },
  {
   "cell_type": "markdown",
   "id": "b78394d9",
   "metadata": {},
   "source": [
    "###  2) Give the AND operations for the following in “TRUE” and “FALSE” Context and validate in Python:\n",
    "\n",
    "* The AND operator should show “TRUE” for the first set of Validations And “FALSE” for the second set of validations"
   ]
  },
  {
   "cell_type": "code",
   "execution_count": 19,
   "id": "66aa2880",
   "metadata": {},
   "outputs": [],
   "source": [
    "x = 256 \n",
    "y = 251"
   ]
  },
  {
   "cell_type": "code",
   "execution_count": 20,
   "id": "cfc4732b",
   "metadata": {},
   "outputs": [
    {
     "name": "stdout",
     "output_type": "stream",
     "text": [
      "False\n"
     ]
    }
   ],
   "source": [
    "print(bool(x & y))"
   ]
  },
  {
   "cell_type": "code",
   "execution_count": 21,
   "id": "a1b01401",
   "metadata": {},
   "outputs": [],
   "source": [
    "a = 123\n",
    "b = 859"
   ]
  },
  {
   "cell_type": "code",
   "execution_count": 22,
   "id": "5a0dc29e",
   "metadata": {},
   "outputs": [
    {
     "name": "stdout",
     "output_type": "stream",
     "text": [
      "True\n"
     ]
    }
   ],
   "source": [
    "print(bool(a & b))"
   ]
  },
  {
   "cell_type": "code",
   "execution_count": 23,
   "id": "0ce42ea8",
   "metadata": {},
   "outputs": [],
   "source": [
    "p = 89\n",
    "q = 85"
   ]
  },
  {
   "cell_type": "code",
   "execution_count": 24,
   "id": "07dc6983",
   "metadata": {},
   "outputs": [
    {
     "name": "stdout",
     "output_type": "stream",
     "text": [
      "True\n"
     ]
    }
   ],
   "source": [
    "print(bool(q & b))"
   ]
  },
  {
   "cell_type": "code",
   "execution_count": 25,
   "id": "6acba387",
   "metadata": {},
   "outputs": [],
   "source": [
    "a = 125\n",
    "b = 256\n",
    "c = 324\n",
    "d = 648"
   ]
  },
  {
   "cell_type": "code",
   "execution_count": 26,
   "id": "be916342",
   "metadata": {},
   "outputs": [
    {
     "name": "stdout",
     "output_type": "stream",
     "text": [
      "False\n"
     ]
    }
   ],
   "source": [
    "print(bool(a & b))"
   ]
  },
  {
   "cell_type": "code",
   "execution_count": 27,
   "id": "35edf10a",
   "metadata": {},
   "outputs": [
    {
     "name": "stdout",
     "output_type": "stream",
     "text": [
      "True\n"
     ]
    }
   ],
   "source": [
    "print(bool(b & c))"
   ]
  },
  {
   "cell_type": "code",
   "execution_count": 28,
   "id": "bc6d82a1",
   "metadata": {},
   "outputs": [
    {
     "name": "stdout",
     "output_type": "stream",
     "text": [
      "False\n"
     ]
    }
   ],
   "source": [
    "print(bool(c & d))"
   ]
  },
  {
   "cell_type": "code",
   "execution_count": 29,
   "id": "f651eeb5",
   "metadata": {},
   "outputs": [
    {
     "name": "stdout",
     "output_type": "stream",
     "text": [
      "True\n"
     ]
    }
   ],
   "source": [
    "print(bool(d & a))"
   ]
  },
  {
   "cell_type": "code",
   "execution_count": 30,
   "id": "501fd1d9",
   "metadata": {},
   "outputs": [
    {
     "name": "stdout",
     "output_type": "stream",
     "text": [
      "True\n"
     ]
    }
   ],
   "source": [
    "print(bool(a & c))"
   ]
  },
  {
   "cell_type": "markdown",
   "id": "bbc360a1",
   "metadata": {},
   "source": [
    "### 3) Write Python Programs for the following Arithmetic Operators:"
   ]
  },
  {
   "cell_type": "markdown",
   "id": "6ae58e9d",
   "metadata": {},
   "source": [
    "#### a) Assign numbers 12 and 14 to variables ‘a’ and ‘b’ and add them using output variable ‘c’"
   ]
  },
  {
   "cell_type": "code",
   "execution_count": 31,
   "id": "abf90693",
   "metadata": {},
   "outputs": [],
   "source": [
    "a = 12\n",
    "b = 14"
   ]
  },
  {
   "cell_type": "code",
   "execution_count": 32,
   "id": "088c5d5d",
   "metadata": {},
   "outputs": [
    {
     "data": {
      "text/plain": [
       "26"
      ]
     },
     "execution_count": 32,
     "metadata": {},
     "output_type": "execute_result"
    }
   ],
   "source": [
    "c = a + b\n",
    "c"
   ]
  },
  {
   "cell_type": "markdown",
   "id": "df4c2130",
   "metadata": {},
   "source": [
    "#### b) Assign numbers 125, 15 and 258 to variables ‘a’, ‘b’ and ‘z’ and add them using output variable ‘d’"
   ]
  },
  {
   "cell_type": "code",
   "execution_count": 33,
   "id": "1215faca",
   "metadata": {},
   "outputs": [],
   "source": [
    "a = 125\n",
    "b = 15 \n",
    "c = 258"
   ]
  },
  {
   "cell_type": "code",
   "execution_count": 34,
   "id": "c00178eb",
   "metadata": {},
   "outputs": [
    {
     "data": {
      "text/plain": [
       "398"
      ]
     },
     "execution_count": 34,
     "metadata": {},
     "output_type": "execute_result"
    }
   ],
   "source": [
    "d = a + b + c\n",
    "d"
   ]
  },
  {
   "cell_type": "markdown",
   "id": "d2bf104e",
   "metadata": {},
   "source": [
    "#### c) Assign numbers 245 and 68 to variables ‘p’ and ‘q’ and subtract them using output variable ‘t’"
   ]
  },
  {
   "cell_type": "code",
   "execution_count": 35,
   "id": "c6af02dd",
   "metadata": {},
   "outputs": [],
   "source": [
    "p = 245\n",
    "q = 68"
   ]
  },
  {
   "cell_type": "code",
   "execution_count": 36,
   "id": "a1e7b13e",
   "metadata": {},
   "outputs": [
    {
     "data": {
      "text/plain": [
       "177"
      ]
     },
     "execution_count": 36,
     "metadata": {},
     "output_type": "execute_result"
    }
   ],
   "source": [
    "t = p - q\n",
    "t"
   ]
  },
  {
   "cell_type": "code",
   "execution_count": null,
   "id": "036f6580",
   "metadata": {},
   "outputs": [],
   "source": []
  },
  {
   "cell_type": "code",
   "execution_count": null,
   "id": "19b3dd9f",
   "metadata": {},
   "outputs": [],
   "source": []
  },
  {
   "cell_type": "code",
   "execution_count": null,
   "id": "d05ebc23",
   "metadata": {},
   "outputs": [],
   "source": []
  },
  {
   "cell_type": "markdown",
   "id": "2e252725",
   "metadata": {},
   "source": [
    "# Assignment 2"
   ]
  },
  {
   "cell_type": "markdown",
   "id": "2fbb49ee",
   "metadata": {},
   "source": [
    "### Using for loop write a program to generate a table of number 14 for range 16"
   ]
  },
  {
   "cell_type": "code",
   "execution_count": 37,
   "id": "5712a414",
   "metadata": {},
   "outputs": [
    {
     "name": "stdout",
     "output_type": "stream",
     "text": [
      "14 x 1 = 14\n",
      "14 x 2 = 28\n",
      "14 x 3 = 42\n",
      "14 x 4 = 56\n",
      "14 x 5 = 70\n",
      "14 x 6 = 84\n",
      "14 x 7 = 98\n",
      "14 x 8 = 112\n",
      "14 x 9 = 126\n",
      "14 x 10 = 140\n",
      "14 x 11 = 154\n",
      "14 x 12 = 168\n",
      "14 x 13 = 182\n",
      "14 x 14 = 196\n",
      "14 x 15 = 210\n",
      "14 x 16 = 224\n"
     ]
    }
   ],
   "source": [
    "number = 14\n",
    "range_limit = 16\n",
    "\n",
    "for i in range(1, range_limit + 1):\n",
    "    print(f\"{number} x {i} = {number * i}\")"
   ]
  },
  {
   "cell_type": "markdown",
   "id": "ad1657dc",
   "metadata": {},
   "source": [
    "### Using for loop write a program to generate a table of number 18 for range starting from 12 to 23"
   ]
  },
  {
   "cell_type": "code",
   "execution_count": 38,
   "id": "2a5952a3",
   "metadata": {},
   "outputs": [
    {
     "name": "stdout",
     "output_type": "stream",
     "text": [
      "18 x 12 = 216\n",
      "18 x 13 = 234\n",
      "18 x 14 = 252\n",
      "18 x 15 = 270\n",
      "18 x 16 = 288\n",
      "18 x 17 = 306\n",
      "18 x 18 = 324\n",
      "18 x 19 = 342\n",
      "18 x 20 = 360\n",
      "18 x 21 = 378\n",
      "18 x 22 = 396\n",
      "18 x 23 = 414\n"
     ]
    }
   ],
   "source": [
    "number = 18\n",
    "start_range = 23\n",
    "\n",
    "for i in range(12, start_range + 1):\n",
    "    print(f\"{number} x {i} = {number * i}\")"
   ]
  },
  {
   "cell_type": "markdown",
   "id": "d13e04cc",
   "metadata": {},
   "source": [
    "### Create multiplication table which can take input from user for the number 16 and range 8"
   ]
  },
  {
   "cell_type": "code",
   "execution_count": 90,
   "id": "39411120",
   "metadata": {},
   "outputs": [
    {
     "name": "stdout",
     "output_type": "stream",
     "text": [
      "Enter the number :16\n",
      "16 x 1 = 16\n",
      "16 x 2 = 32\n",
      "16 x 3 = 48\n",
      "16 x 4 = 64\n",
      "16 x 5 = 80\n",
      "16 x 6 = 96\n",
      "16 x 7 = 112\n",
      "16 x 8 = 128\n"
     ]
    }
   ],
   "source": [
    "number = int(input(\"Enter the number :\"))\n",
    "range_limit = 8\n",
    "\n",
    "for i in range(1, range_limit + 1):\n",
    "    print(f\"{number} x {i} = {number * i}\")"
   ]
  },
  {
   "cell_type": "markdown",
   "id": "9f387f9f",
   "metadata": {},
   "source": [
    "### Write a program to display if a number is odd or even using if and else statement"
   ]
  },
  {
   "cell_type": "code",
   "execution_count": 40,
   "id": "e62994fa",
   "metadata": {},
   "outputs": [
    {
     "name": "stdout",
     "output_type": "stream",
     "text": [
      "Enter the number :2\n",
      "Even\n"
     ]
    }
   ],
   "source": [
    "n = int(input(\"Enter the number :\"))\n",
    "\n",
    "if n % 2 != 0:\n",
    "    print(\"Odd\")\n",
    "else:\n",
    "    print(\"Even\")"
   ]
  },
  {
   "cell_type": "markdown",
   "id": "d11e22fa",
   "metadata": {},
   "source": [
    "### Write a program to display if a number is lesser than or greater than using if and else statement"
   ]
  },
  {
   "cell_type": "code",
   "execution_count": 41,
   "id": "841dd487",
   "metadata": {},
   "outputs": [
    {
     "name": "stdout",
     "output_type": "stream",
     "text": [
      "Enter the number :22\n",
      "22.0 is greater than 20.\n"
     ]
    }
   ],
   "source": [
    "number = float(input(\"Enter the number :\"))\n",
    "\n",
    "specified_value = 20\n",
    "\n",
    "if number < specified_value:\n",
    "    print(f\"{number} is less than {specified_value}.\")\n",
    "else:\n",
    "    print(f\"{number} is greater than {specified_value}.\")"
   ]
  },
  {
   "cell_type": "markdown",
   "id": "7f20daaf",
   "metadata": {},
   "source": [
    "### Write a program of display if a number is lesser than or greater than or equal to using if-elif-else statement"
   ]
  },
  {
   "cell_type": "code",
   "execution_count": 42,
   "id": "9b4b97a8",
   "metadata": {},
   "outputs": [
    {
     "name": "stdout",
     "output_type": "stream",
     "text": [
      "Enter a number: 25\n",
      "25.0 is greater than 10.\n"
     ]
    }
   ],
   "source": [
    "number = float(input(\"Enter a number: \"))\n",
    "\n",
    "specified_value = 10\n",
    "\n",
    "if number < specified_value:\n",
    "    print(f\"{number} is less than {specified_value}.\")\n",
    "elif number > specified_value:\n",
    "    print(f\"{number} is greater than {specified_value}.\")\n",
    "else:\n",
    "    print(f\"{number} is equal to {specified_value}.\")\n"
   ]
  },
  {
   "cell_type": "markdown",
   "id": "f9a2c96d",
   "metadata": {},
   "source": [
    "### Create a list of numbers from 150 to 275 with a step size of 10"
   ]
  },
  {
   "cell_type": "code",
   "execution_count": 43,
   "id": "f6cf3000",
   "metadata": {},
   "outputs": [
    {
     "name": "stdout",
     "output_type": "stream",
     "text": [
      "[150, 160, 170, 180, 190, 200, 210, 220, 230, 240, 250, 260, 270]\n"
     ]
    }
   ],
   "source": [
    "numbers = [i for i in range(150, 276, 10)]\n",
    "print(numbers)"
   ]
  },
  {
   "cell_type": "code",
   "execution_count": 44,
   "id": "1df7e72e",
   "metadata": {},
   "outputs": [
    {
     "data": {
      "text/plain": [
       "[150, 160, 170, 180, 190, 200, 210, 220, 230, 240, 250, 260]"
      ]
     },
     "execution_count": 44,
     "metadata": {},
     "output_type": "execute_result"
    }
   ],
   "source": [
    "number = list(range(150,270,10))\n",
    "number"
   ]
  },
  {
   "cell_type": "markdown",
   "id": "1e96ef82",
   "metadata": {},
   "source": [
    "### Create a tuple of numbers from 345 to 485 with a step size of 15"
   ]
  },
  {
   "cell_type": "code",
   "execution_count": 45,
   "id": "c42a9371",
   "metadata": {},
   "outputs": [
    {
     "data": {
      "text/plain": [
       "(345, 360, 375, 390, 405, 420, 435, 450, 465, 480)"
      ]
     },
     "execution_count": 45,
     "metadata": {},
     "output_type": "execute_result"
    }
   ],
   "source": [
    "num = tuple(range(345,485,15))\n",
    "num"
   ]
  },
  {
   "cell_type": "markdown",
   "id": "6897dac0",
   "metadata": {},
   "source": [
    "### Create multiplication table which can take input from user for table number 14 and table length 12."
   ]
  },
  {
   "cell_type": "code",
   "execution_count": 89,
   "id": "53ebe075",
   "metadata": {},
   "outputs": [
    {
     "name": "stdout",
     "output_type": "stream",
     "text": [
      "Enter the number :14\n",
      "14 x 1 = 14\n",
      "14 x 2 = 28\n",
      "14 x 3 = 42\n",
      "14 x 4 = 56\n",
      "14 x 5 = 70\n",
      "14 x 6 = 84\n",
      "14 x 7 = 98\n",
      "14 x 8 = 112\n",
      "14 x 9 = 126\n",
      "14 x 10 = 140\n",
      "14 x 11 = 154\n",
      "14 x 12 = 168\n"
     ]
    }
   ],
   "source": [
    "number = int(input(\"Enter the number :\"))\n",
    "range_limit = 12\n",
    "\n",
    "for i in range(1, range_limit + 1):\n",
    "    print(f\"{number} x {i} = {number * i}\")"
   ]
  },
  {
   "cell_type": "markdown",
   "id": "880bcad2",
   "metadata": {},
   "source": [
    "# Assignment 3\n",
    "\n",
    "* For Loops, While Loops, If-Else Statements, Tuple, Lists, Dictionaries"
   ]
  },
  {
   "cell_type": "markdown",
   "id": "6894af2f",
   "metadata": {},
   "source": [
    "### Print the list of values between 120 & 250 which are divisible by 5"
   ]
  },
  {
   "cell_type": "code",
   "execution_count": 47,
   "id": "e5a258ad",
   "metadata": {},
   "outputs": [
    {
     "name": "stdout",
     "output_type": "stream",
     "text": [
      "[120, 125, 130, 135, 140, 145, 150, 155, 160, 165, 170, 175, 180, 185, 190, 195, 200, 205, 210, 215, 220, 225, 230, 235, 240, 245, 250]\n"
     ]
    }
   ],
   "source": [
    "divisible_by_5 = [num for num in range(120, 251) if num % 5 == 0]\n",
    "\n",
    "print(divisible_by_5)\n"
   ]
  },
  {
   "cell_type": "markdown",
   "id": "174eb945",
   "metadata": {},
   "source": [
    "### Create a tuple with the values ('che', 'blr', 'ggn', 'noi', 'che', 'ggn', 'noi', 'che', 'ggn', 'noi', 'che')"
   ]
  },
  {
   "cell_type": "code",
   "execution_count": 48,
   "id": "03d5c542",
   "metadata": {},
   "outputs": [
    {
     "data": {
      "text/plain": [
       "('che', 'blr', 'ggn', 'noi', 'che', 'ggn', 'noi', 'che', 'ggn', 'noi', 'che')"
      ]
     },
     "execution_count": 48,
     "metadata": {},
     "output_type": "execute_result"
    }
   ],
   "source": [
    "t_1 = ('che', 'blr', 'ggn', 'noi', 'che', 'ggn', 'noi', 'che', 'ggn', 'noi', 'che')\n",
    "t_1"
   ]
  },
  {
   "cell_type": "code",
   "execution_count": 49,
   "id": "e57a21ab",
   "metadata": {},
   "outputs": [
    {
     "data": {
      "text/plain": [
       "tuple"
      ]
     },
     "execution_count": 49,
     "metadata": {},
     "output_type": "execute_result"
    }
   ],
   "source": [
    "type(t_1)"
   ]
  },
  {
   "cell_type": "markdown",
   "id": "e974f72f",
   "metadata": {},
   "source": [
    "### Find the number of times ggn is repeated in the above tuple using methods"
   ]
  },
  {
   "cell_type": "code",
   "execution_count": 50,
   "id": "125dea5f",
   "metadata": {},
   "outputs": [
    {
     "data": {
      "text/plain": [
       "3"
      ]
     },
     "execution_count": 50,
     "metadata": {},
     "output_type": "execute_result"
    }
   ],
   "source": [
    "t_1.count(\"ggn\")"
   ]
  },
  {
   "cell_type": "markdown",
   "id": "8e10ceb0",
   "metadata": {},
   "source": [
    "### Create a tuple with values between 100, and 200 and extract values from 150 to 200 from the list using slicing & dicing"
   ]
  },
  {
   "cell_type": "code",
   "execution_count": 51,
   "id": "13e1b04b",
   "metadata": {},
   "outputs": [
    {
     "name": "stdout",
     "output_type": "stream",
     "text": [
      "[100, 101, 102, 103, 104, 105, 106, 107, 108, 109, 110, 111, 112, 113, 114, 115, 116, 117, 118, 119, 120, 121, 122, 123, 124, 125, 126, 127, 128, 129, 130, 131, 132, 133, 134, 135, 136, 137, 138, 139, 140, 141, 142, 143, 144, 145, 146, 147, 148, 149, 150, 151, 152, 153, 154, 155, 156, 157, 158, 159, 160, 161, 162, 163, 164, 165, 166, 167, 168, 169, 170, 171, 172, 173, 174, 175, 176, 177, 178, 179, 180, 181, 182, 183, 184, 185, 186, 187, 188, 189, 190, 191, 192, 193, 194, 195, 196, 197, 198, 199, 200],"
     ]
    }
   ],
   "source": [
    "tup = list(range(100,201))\n",
    "print(tup, end=\",\")"
   ]
  },
  {
   "cell_type": "code",
   "execution_count": 52,
   "id": "f73c26b3",
   "metadata": {},
   "outputs": [
    {
     "name": "stdout",
     "output_type": "stream",
     "text": [
      "[150, 151, 152, 153, 154, 155, 156, 157, 158, 159, 160, 161, 162, 163, 164, 165, 166, 167, 168, 169, 170, 171, 172, 173, 174, 175, 176, 177, 178, 179, 180, 181, 182, 183, 184, 185, 186, 187, 188, 189, 190, 191, 192, 193, 194, 195, 196, 197, 198, 199, 200],"
     ]
    }
   ],
   "source": [
    "print(tup[50:101], end=\",\")"
   ]
  },
  {
   "cell_type": "code",
   "execution_count": 53,
   "id": "0c585cbe",
   "metadata": {},
   "outputs": [
    {
     "name": "stdout",
     "output_type": "stream",
     "text": [
      "(150, 151, 152, 153, 154, 155, 156, 157, 158, 159, 160, 161, 162, 163, 164, 165, 166, 167, 168, 169, 170, 171, 172, 173, 174, 175, 176, 177, 178, 179, 180, 181, 182, 183, 184, 185, 186, 187, 188, 189, 190, 191, 192, 193, 194, 195, 196, 197, 198, 199, 200)\n"
     ]
    }
   ],
   "source": [
    "# Creating a tuple with values between 100 and 200\n",
    "my_tuple = tuple(range(100, 201))\n",
    "\n",
    "# Extracting values from 150 to 200 using slicing\n",
    "extracted_values = my_tuple[50:101]  # Index 50 corresponds to 150, and index 100 corresponds to 200\n",
    "\n",
    "# Printing the extracted values\n",
    "print(extracted_values)\n"
   ]
  },
  {
   "cell_type": "markdown",
   "id": "4176a87e",
   "metadata": {},
   "source": [
    "### Print the list of values between 780 & 920 which are divisible by 6"
   ]
  },
  {
   "cell_type": "code",
   "execution_count": 54,
   "id": "a0ecc677",
   "metadata": {},
   "outputs": [
    {
     "name": "stdout",
     "output_type": "stream",
     "text": [
      "[780, 786, 792, 798, 804, 810, 816, 822, 828, 834, 840, 846, 852, 858, 864, 870, 876, 882, 888, 894, 900, 906, 912, 918]\n"
     ]
    }
   ],
   "source": [
    "divisible_by_6 = [num for num in range(780, 920) if num % 6 == 0]\n",
    "\n",
    "print(divisible_by_6)"
   ]
  },
  {
   "cell_type": "markdown",
   "id": "26007a29",
   "metadata": {},
   "source": [
    "### Write a Python program which accepts the radius of a circle from the user and compute the area.\n",
    "Sample Output:\n",
    "r = 1.1\n",
    "Area = 3.8013271108436504"
   ]
  },
  {
   "cell_type": "code",
   "execution_count": 55,
   "id": "07ff0984",
   "metadata": {},
   "outputs": [
    {
     "name": "stdout",
     "output_type": "stream",
     "text": [
      "Enter the radius :1.1\n",
      "1.1\n",
      "3.8013271108436504\n"
     ]
    }
   ],
   "source": [
    "import math\n",
    "radius = float(input(\"Enter the radius :\"))\n",
    "\n",
    "area = math.pi * radius ** 2\n",
    "\n",
    "print(radius)\n",
    "print(area)"
   ]
  },
  {
   "cell_type": "markdown",
   "id": "ef163c84",
   "metadata": {},
   "source": [
    "### Write a Python program which accepts the user's first and last name and print them in reverse order with a space between them."
   ]
  },
  {
   "cell_type": "code",
   "execution_count": 56,
   "id": "77e4090c",
   "metadata": {},
   "outputs": [
    {
     "name": "stdout",
     "output_type": "stream",
     "text": [
      "aydnaP htrahtaY\n"
     ]
    }
   ],
   "source": [
    "def my_function(x):\n",
    "    return x[::-1]    # we use slicing for reverse the str\n",
    "\n",
    "mytxt = my_function(\"Yatharth Pandya\")\n",
    "\n",
    "print(mytxt)"
   ]
  },
  {
   "cell_type": "markdown",
   "id": "16d43c6d",
   "metadata": {},
   "source": [
    "### Write a Python program which accepts a sequence of comma-separated numbers from user and generate a list and a tuple with those numbers.\n",
    "Sample data : 3, 5, 7, 23\n",
    "\n",
    "\n",
    "Output:\n",
    "List : ['3', ' 5', ' 7', ' 23']\n",
    "Tuple : ('3', ' 5', ' 7', ' 23')"
   ]
  },
  {
   "cell_type": "code",
   "execution_count": 57,
   "id": "4b9cad60",
   "metadata": {},
   "outputs": [
    {
     "name": "stdout",
     "output_type": "stream",
     "text": [
      "Enter comma-separated numbers :3,5,7,23\n",
      "List : ['3', '5', '7', '23']\n",
      "Tuple : ('3', '5', '7', '23')\n"
     ]
    }
   ],
   "source": [
    "input_s = input(\"Enter comma-separated numbers :\")\n",
    "\n",
    "num_list = input_s.split(\",\")\n",
    "\n",
    "num_tuple = tuple(num_list)\n",
    "\n",
    "print(\"List :\", num_list)\n",
    "print(\"Tuple :\", num_tuple)"
   ]
  },
  {
   "cell_type": "markdown",
   "id": "581312b7",
   "metadata": {},
   "source": [
    "### Write a Python program to display the first and last colors from the following list.\n",
    "color_list = [\"Red\",\"Green\",\"White\" ,\"Black\"]"
   ]
  },
  {
   "cell_type": "code",
   "execution_count": 58,
   "id": "a172bcb2",
   "metadata": {},
   "outputs": [
    {
     "data": {
      "text/plain": [
       "['Red', 'Black']"
      ]
     },
     "execution_count": 58,
     "metadata": {},
     "output_type": "execute_result"
    }
   ],
   "source": [
    "color_list = [\"Red\",\"Green\",\"White\" ,\"Black\"]\n",
    "color_list[0:4:3]"
   ]
  },
  {
   "cell_type": "markdown",
   "id": "dcacd416",
   "metadata": {},
   "source": [
    "### Write a Python program to calculate number of days between two dates.\n",
    "\n",
    "Sample date : (2014, 7, 2), (2014, 7, 11), Expected output : 9 days"
   ]
  },
  {
   "cell_type": "code",
   "execution_count": 59,
   "id": "b56ca323",
   "metadata": {},
   "outputs": [
    {
     "name": "stdout",
     "output_type": "stream",
     "text": [
      "Number of days between the two dates: 9 days\n"
     ]
    }
   ],
   "source": [
    "from datetime import datetime\n",
    "\n",
    "date1 = datetime(2014, 7, 2)\n",
    "date2 = datetime(2014, 7, 11)\n",
    "\n",
    "# Difference\n",
    "difference = date2 - date1\n",
    "\n",
    "# The difference between 2 dates\n",
    "number_of_days = difference.days\n",
    "\n",
    "print(\"Number of days between the two dates:\", number_of_days, \"days\")"
   ]
  },
  {
   "cell_type": "markdown",
   "id": "8708a317",
   "metadata": {},
   "source": [
    "### Write a Python program to get the area of a triangle with by taking inputs from user."
   ]
  },
  {
   "cell_type": "code",
   "execution_count": 60,
   "id": "456ddfa3",
   "metadata": {},
   "outputs": [
    {
     "name": "stdout",
     "output_type": "stream",
     "text": [
      "Enter the height of triangle :2\n",
      "Enter the base of tringle :23\n",
      "23.0\n"
     ]
    }
   ],
   "source": [
    "height = float(input(\"Enter the height of triangle :\"))\n",
    "base = float(input(\"Enter the base of tringle :\"))\n",
    "\n",
    "tri_area = 0.5 * base * height\n",
    "print(tri_area)"
   ]
  },
  {
   "cell_type": "markdown",
   "id": "593f633b",
   "metadata": {},
   "source": [
    "### Write a Python program to obtain the area of a square, circle and rectangle by taking inputs from user"
   ]
  },
  {
   "cell_type": "code",
   "execution_count": 61,
   "id": "ccab0d91",
   "metadata": {},
   "outputs": [
    {
     "name": "stdout",
     "output_type": "stream",
     "text": [
      "Enter side  :2\n",
      "Enter radius :3\n",
      "Enter length :4\n",
      "Enter weight :5\n",
      "4.0\n",
      "20.0\n",
      "28.274333882308138\n"
     ]
    }
   ],
   "source": [
    "a = float(input(\"Enter side  :\"))\n",
    "r = float(input(\"Enter radius :\"))\n",
    "l = float(input(\"Enter length :\"))\n",
    "w = float(input(\"Enter weight :\"))\n",
    "\n",
    "# Squre\n",
    "square_area = a ** 2\n",
    "\n",
    "# Rectangle\n",
    "rectangle_area = l * w\n",
    "\n",
    "# Circle\n",
    "circle_area = math.pi * r ** 2\n",
    "\n",
    "print(square_area)\n",
    "print(rectangle_area)\n",
    "print(circle_area)"
   ]
  },
  {
   "cell_type": "markdown",
   "id": "d6988e15",
   "metadata": {},
   "source": [
    "### Print the list of values between 500 & 700 which are divisible by 7"
   ]
  },
  {
   "cell_type": "code",
   "execution_count": 62,
   "id": "8eaa975e",
   "metadata": {},
   "outputs": [
    {
     "name": "stdout",
     "output_type": "stream",
     "text": [
      "[504, 511, 518, 525, 532, 539, 546, 553, 560, 567, 574, 581, 588, 595, 602, 609, 616, 623, 630, 637, 644, 651, 658, 665, 672, 679, 686, 693]\n"
     ]
    }
   ],
   "source": [
    "div_by_7 = [num for num in range(500, 700) if num % 7 == 0]\n",
    "print(div_by_7)"
   ]
  },
  {
   "cell_type": "markdown",
   "id": "63d4d789",
   "metadata": {},
   "source": [
    "### Write a Python program to get the volume of a sphere with radius 6."
   ]
  },
  {
   "cell_type": "code",
   "execution_count": 63,
   "id": "6d59a2b8",
   "metadata": {},
   "outputs": [
    {
     "name": "stdout",
     "output_type": "stream",
     "text": [
      "904.3199999999999\n"
     ]
    }
   ],
   "source": [
    "r = 6\n",
    "\n",
    "sphere_volume = 4/3*3.14*r**3\n",
    "print(sphere_volume)"
   ]
  },
  {
   "cell_type": "markdown",
   "id": "63c0331b",
   "metadata": {},
   "source": [
    "# Assignment 4\n",
    "\n",
    "* Control Statements, Conditional Statements, Programs on For Loops, While Loops, Programs on if-else, if-elif-else statements, Tuple, Lists, Dictionaries on Arguments, Keyword Arguments, User Defined Functions"
   ]
  },
  {
   "cell_type": "markdown",
   "id": "54f95cb5",
   "metadata": {},
   "source": [
    "### Write a program which will find all numbers between 1500 and 2600 which are divisible by 7 but are not a multiple of 5."
   ]
  },
  {
   "cell_type": "code",
   "execution_count": 64,
   "id": "1857648c",
   "metadata": {},
   "outputs": [
    {
     "name": "stdout",
     "output_type": "stream",
     "text": [
      "[1512, 1519, 1526, 1533, 1547, 1554, 1561, 1568, 1582, 1589, 1596, 1603, 1617, 1624, 1631, 1638, 1652, 1659, 1666, 1673, 1687, 1694, 1701, 1708, 1722, 1729, 1736, 1743, 1757, 1764, 1771, 1778, 1792, 1799, 1806, 1813, 1827, 1834, 1841, 1848, 1862, 1869, 1876, 1883, 1897, 1904, 1911, 1918, 1932, 1939, 1946, 1953, 1967, 1974, 1981, 1988, 2002, 2009, 2016, 2023, 2037, 2044, 2051, 2058, 2072, 2079, 2086, 2093, 2107, 2114, 2121, 2128, 2142, 2149, 2156, 2163, 2177, 2184, 2191, 2198, 2212, 2219, 2226, 2233, 2247, 2254, 2261, 2268, 2282, 2289, 2296, 2303, 2317, 2324, 2331, 2338, 2352, 2359, 2366, 2373, 2387, 2394, 2401, 2408, 2422, 2429, 2436, 2443, 2457, 2464, 2471, 2478, 2492, 2499, 2506, 2513, 2527, 2534, 2541, 2548, 2562, 2569, 2576, 2583, 2597]\n"
     ]
    }
   ],
   "source": [
    "numbers = []\n",
    "\n",
    "for i in range(1500,2600):\n",
    "    if i % 7 == 0 and i % 5 != 0:\n",
    "        numbers.append(i)\n",
    "\n",
    "print(numbers)"
   ]
  },
  {
   "cell_type": "markdown",
   "id": "4f2e01b9",
   "metadata": {},
   "source": [
    "### Write a program which will count all string values in the list [4, 6, 'Python', '10', 1, 'SQL', 5.5, True, 3, 'John', None, 7, 'How']"
   ]
  },
  {
   "cell_type": "code",
   "execution_count": 65,
   "id": "8b8d3536",
   "metadata": {},
   "outputs": [
    {
     "data": {
      "text/plain": [
       "[4, 6, 'Python', '10', 1, 'SQL', 5.5, True, 3, 'John', None, 7, 'How']"
      ]
     },
     "execution_count": 65,
     "metadata": {},
     "output_type": "execute_result"
    }
   ],
   "source": [
    "l_1 = [4, 6, 'Python', '10', 1, 'SQL', 5.5, True, 3, 'John', None, 7, 'How']\n",
    "l_1"
   ]
  },
  {
   "cell_type": "code",
   "execution_count": 66,
   "id": "ebf409ec",
   "metadata": {},
   "outputs": [
    {
     "name": "stdout",
     "output_type": "stream",
     "text": [
      "5\n"
     ]
    }
   ],
   "source": [
    "string_count = 0\n",
    "\n",
    "for element in l_1:\n",
    "    # Check if the element is an instance of str (string)\n",
    "    if isinstance(element, str):\n",
    "        string_count += 1\n",
    "        \n",
    "print(string_count)"
   ]
  },
  {
   "cell_type": "markdown",
   "id": "0f712d51",
   "metadata": {},
   "source": [
    "### Write a program which will find all numbers between 2500 and 3600 which are divisible by 6 but are not a multiple of 3."
   ]
  },
  {
   "cell_type": "code",
   "execution_count": 69,
   "id": "4b5ccf3d",
   "metadata": {},
   "outputs": [
    {
     "name": "stdout",
     "output_type": "stream",
     "text": [
      "[]\n"
     ]
    }
   ],
   "source": [
    "numbers = []\n",
    "\n",
    "for i in range(2500, 3601):\n",
    "    if i % 6 == 0 and i % 3 != 0:\n",
    "        numbers.append(i)\n",
    "\n",
    "print(numbers)"
   ]
  },
  {
   "cell_type": "markdown",
   "id": "2ebe7383",
   "metadata": {},
   "source": [
    "### Write a program which will count all integer values in the list [“JUST”, 6, 'Py', '10', 1, 'SQL', 5.5, False, 6, 'John', None, 7, 'Which']"
   ]
  },
  {
   "cell_type": "code",
   "execution_count": 71,
   "id": "69eeffdf",
   "metadata": {},
   "outputs": [
    {
     "data": {
      "text/plain": [
       "['JUST', 6, 'Py', '10', 1, 'SQL', 5.5, False, 6, 'John', None, 7, 'Which']"
      ]
     },
     "execution_count": 71,
     "metadata": {},
     "output_type": "execute_result"
    }
   ],
   "source": [
    "l_2 = ['JUST', 6, 'Py', '10', 1, 'SQL', 5.5, False, 6, 'John', None, 7, 'Which']\n",
    "l_2"
   ]
  },
  {
   "cell_type": "code",
   "execution_count": 75,
   "id": "a1b0432e",
   "metadata": {},
   "outputs": [
    {
     "name": "stdout",
     "output_type": "stream",
     "text": [
      "5\n"
     ]
    }
   ],
   "source": [
    "int_value = 0\n",
    "\n",
    "for element in l_2:\n",
    "    if isinstance(element, int):\n",
    "        int_value += 1\n",
    "        \n",
    "print(int_value)"
   ]
  },
  {
   "cell_type": "markdown",
   "id": "30c2b487",
   "metadata": {},
   "source": [
    "### Write a program which will count all float values in the list [6, 'The', '10.2', 1.1, 'SQL', 5.5, False, 6.8, 'John', None, 7, 'Mars']"
   ]
  },
  {
   "cell_type": "code",
   "execution_count": 73,
   "id": "f806b687",
   "metadata": {},
   "outputs": [
    {
     "data": {
      "text/plain": [
       "[6, 'The', '10.2', 1.1, 'SQL', 5.5, False, 6.8, 'John', None, 7, 'Mars']"
      ]
     },
     "execution_count": 73,
     "metadata": {},
     "output_type": "execute_result"
    }
   ],
   "source": [
    "l_3 =  [6, 'The', '10.2', 1.1, 'SQL', 5.5, False, 6.8, 'John', None, 7, 'Mars']\n",
    "l_3"
   ]
  },
  {
   "cell_type": "code",
   "execution_count": 77,
   "id": "e1144905",
   "metadata": {},
   "outputs": [
    {
     "name": "stdout",
     "output_type": "stream",
     "text": [
      "3\n"
     ]
    }
   ],
   "source": [
    "float_value = 0\n",
    "\n",
    "for element in l_3:\n",
    "    if isinstance(element, float):\n",
    "        float_value += 1\n",
    "        \n",
    "print(float_value)"
   ]
  },
  {
   "cell_type": "markdown",
   "id": "4b9f0422",
   "metadata": {},
   "source": [
    "### Write a Python program which takes the input from a list of numbers, squares them and adds them to another list. Perform the same using list comprehension also."
   ]
  },
  {
   "cell_type": "code",
   "execution_count": 78,
   "id": "32733318",
   "metadata": {},
   "outputs": [
    {
     "name": "stdout",
     "output_type": "stream",
     "text": [
      "[4, 9, 16, 25, 36]\n"
     ]
    }
   ],
   "source": [
    "# use Loop\n",
    "\n",
    "numbers = [2,3,4,5,6]\n",
    "\n",
    "squared_num = []\n",
    "\n",
    "for num in numbers:\n",
    "    squared_num.append(num ** 2)\n",
    "    \n",
    "print(squared_num)"
   ]
  },
  {
   "cell_type": "code",
   "execution_count": 82,
   "id": "1a45d9ca",
   "metadata": {},
   "outputs": [
    {
     "name": "stdout",
     "output_type": "stream",
     "text": [
      "[4, 9, 16, 25, 36]\n"
     ]
    }
   ],
   "source": [
    "# Use list comprehension\n",
    "\n",
    "numbers = [2,3,4,5,6]\n",
    "\n",
    "squared_num = [num ** 2 for num in numbers]\n",
    "\n",
    "print(squared_num)"
   ]
  },
  {
   "cell_type": "markdown",
   "id": "f187440d",
   "metadata": {},
   "source": [
    "### Write a Python program which takes the input from a list of numbers, cubes them and adds them to another list. Perform the same using list comprehension also"
   ]
  },
  {
   "cell_type": "code",
   "execution_count": 83,
   "id": "12e1d1b2",
   "metadata": {},
   "outputs": [
    {
     "name": "stdout",
     "output_type": "stream",
     "text": [
      "[1331, 2197, 3375, 4096, 4913]\n"
     ]
    }
   ],
   "source": [
    "# Use list comprehension\n",
    "\n",
    "numbers = [11,13,15,16,17]\n",
    "\n",
    "cubes_num = [num ** 3 for num in numbers]\n",
    "\n",
    "print(cubes_num)"
   ]
  },
  {
   "cell_type": "markdown",
   "id": "4061c0b1",
   "metadata": {},
   "source": [
    "### Write a Python program which takes the input from a list (use range function) of numbers, cubes them and adds them to another list. Perform the same using list comprehension also."
   ]
  },
  {
   "cell_type": "code",
   "execution_count": 85,
   "id": "9025074a",
   "metadata": {},
   "outputs": [
    {
     "name": "stdout",
     "output_type": "stream",
     "text": [
      "[1, 8, 27, 64, 125, 216, 343, 512, 729, 1000]\n"
     ]
    }
   ],
   "source": [
    "numbers = list(range(1, 11))\n",
    "\n",
    "cubed_numbers = []\n",
    "\n",
    "for num in numbers:\n",
    "    cubed_numbers.append(num ** 3)\n",
    "    \n",
    "print(cubed_numbers)"
   ]
  },
  {
   "cell_type": "code",
   "execution_count": 87,
   "id": "bbeeb8e3",
   "metadata": {},
   "outputs": [
    {
     "name": "stdout",
     "output_type": "stream",
     "text": [
      "[1, 8, 27, 64, 125, 216, 343, 512, 729, 1000]\n"
     ]
    }
   ],
   "source": [
    "# List Comprehension\n",
    "\n",
    "numbers = list(range(1,11))\n",
    "\n",
    "cubed_num = [num ** 3 for num in numbers]\n",
    "\n",
    "print(cubed_num)"
   ]
  },
  {
   "cell_type": "markdown",
   "id": "e081b80a",
   "metadata": {},
   "source": [
    "### Write a Python program which takes the input from a list (use range function) of numbers, squares them and adds them to another list. Perform the same using list comprehension also."
   ]
  },
  {
   "cell_type": "code",
   "execution_count": 88,
   "id": "066377ba",
   "metadata": {},
   "outputs": [
    {
     "name": "stdout",
     "output_type": "stream",
     "text": [
      "[121, 144, 169, 196, 225, 256, 289, 324, 361, 400]\n"
     ]
    }
   ],
   "source": [
    "# List Comprehension\n",
    "\n",
    "numbers = list(range(11,21))\n",
    "\n",
    "squared_num = [num ** 2 for num in numbers]\n",
    "\n",
    "print(squared_num)"
   ]
  },
  {
   "cell_type": "code",
   "execution_count": null,
   "id": "d4ef3d5a",
   "metadata": {},
   "outputs": [],
   "source": []
  },
  {
   "cell_type": "markdown",
   "id": "c43528e9",
   "metadata": {},
   "source": [
    "### Write a program that takes a string and returns reversed string. i.e. if input is \"pqrs4567\" output should be \"7654srqp\""
   ]
  },
  {
   "cell_type": "code",
   "execution_count": 84,
   "id": "66fe3b70",
   "metadata": {},
   "outputs": [
    {
     "name": "stdout",
     "output_type": "stream",
     "text": [
      "7654srqp\n"
     ]
    }
   ],
   "source": [
    "str_1 = ('pqrs4567')\n",
    "\n",
    "print(str_1[::-1])"
   ]
  },
  {
   "cell_type": "code",
   "execution_count": null,
   "id": "b578952f",
   "metadata": {},
   "outputs": [],
   "source": []
  },
  {
   "cell_type": "code",
   "execution_count": null,
   "id": "5b4c44b9",
   "metadata": {},
   "outputs": [],
   "source": []
  },
  {
   "cell_type": "code",
   "execution_count": null,
   "id": "2d2807a7",
   "metadata": {},
   "outputs": [],
   "source": []
  }
 ],
 "metadata": {
  "kernelspec": {
   "display_name": "Python 3 (ipykernel)",
   "language": "python",
   "name": "python3"
  },
  "language_info": {
   "codemirror_mode": {
    "name": "ipython",
    "version": 3
   },
   "file_extension": ".py",
   "mimetype": "text/x-python",
   "name": "python",
   "nbconvert_exporter": "python",
   "pygments_lexer": "ipython3",
   "version": "3.10.9"
  }
 },
 "nbformat": 4,
 "nbformat_minor": 5
}
